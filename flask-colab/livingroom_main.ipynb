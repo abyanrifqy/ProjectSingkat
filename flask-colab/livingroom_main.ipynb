{
  "nbformat": 4,
  "nbformat_minor": 0,
  "metadata": {
    "colab": {
      "name": "livingroom_main.ipynb",
      "provenance": [],
      "collapsed_sections": [],
      "include_colab_link": true
    },
    "kernelspec": {
      "name": "python3",
      "display_name": "Python 3"
    },
    "language_info": {
      "name": "python"
    }
  },
  "cells": [
    {
      "cell_type": "markdown",
      "metadata": {
        "id": "view-in-github",
        "colab_type": "text"
      },
      "source": [
        "<a href=\"https://colab.research.google.com/github/abyanrifqy/ProjectSingkat/blob/master/flask-colab/livingroom_main.ipynb\" target=\"_parent\"><img src=\"https://colab.research.google.com/assets/colab-badge.svg\" alt=\"Open In Colab\"/></a>"
      ]
    },
    {
      "cell_type": "code",
      "metadata": {
        "colab": {
          "base_uri": "https://localhost:8080/"
        },
        "id": "S_OD2DtY46Pi",
        "outputId": "1281a17e-4527-45de-bfaa-df083b18e003"
      },
      "source": [
        "from google.colab import drive\n",
        "drive.mount('/content/drive')"
      ],
      "execution_count": null,
      "outputs": [
        {
          "output_type": "stream",
          "text": [
            "Mounted at /content/drive\n"
          ],
          "name": "stdout"
        }
      ]
    },
    {
      "cell_type": "code",
      "metadata": {
        "id": "rehzEV6r0dCn",
        "colab": {
          "base_uri": "https://localhost:8080/"
        },
        "outputId": "daebaf6a-ec36-406d-b432-87d276c7c013"
      },
      "source": [
        "! git clone https://github.com/droxey/ml-xception.git"
      ],
      "execution_count": null,
      "outputs": [
        {
          "output_type": "stream",
          "text": [
            "Cloning into 'ml-xception'...\n",
            "remote: Enumerating objects: 32, done.\u001b[K\n",
            "remote: Counting objects: 100% (3/3), done.\u001b[K\n",
            "remote: Compressing objects: 100% (3/3), done.\u001b[K\n",
            "remote: Total 32 (delta 0), reused 0 (delta 0), pack-reused 29\u001b[K\n",
            "Unpacking objects: 100% (32/32), done.\n"
          ],
          "name": "stdout"
        }
      ]
    },
    {
      "cell_type": "code",
      "metadata": {
        "colab": {
          "base_uri": "https://localhost:8080/"
        },
        "id": "hn2ZinaqkYxC",
        "outputId": "1f93e342-40c4-46e5-df33-927299014753"
      },
      "source": [
        "!pip install flask-ngrok"
      ],
      "execution_count": null,
      "outputs": [
        {
          "output_type": "stream",
          "text": [
            "Collecting flask-ngrok\n",
            "  Downloading https://files.pythonhosted.org/packages/af/6c/f54cb686ad1129e27d125d182f90f52b32f284e6c8df58c1bae54fa1adbc/flask_ngrok-0.0.25-py3-none-any.whl\n",
            "Requirement already satisfied: requests in /usr/local/lib/python3.7/dist-packages (from flask-ngrok) (2.23.0)\n",
            "Requirement already satisfied: Flask>=0.8 in /usr/local/lib/python3.7/dist-packages (from flask-ngrok) (1.1.4)\n",
            "Requirement already satisfied: urllib3!=1.25.0,!=1.25.1,<1.26,>=1.21.1 in /usr/local/lib/python3.7/dist-packages (from requests->flask-ngrok) (1.24.3)\n",
            "Requirement already satisfied: chardet<4,>=3.0.2 in /usr/local/lib/python3.7/dist-packages (from requests->flask-ngrok) (3.0.4)\n",
            "Requirement already satisfied: idna<3,>=2.5 in /usr/local/lib/python3.7/dist-packages (from requests->flask-ngrok) (2.10)\n",
            "Requirement already satisfied: certifi>=2017.4.17 in /usr/local/lib/python3.7/dist-packages (from requests->flask-ngrok) (2020.12.5)\n",
            "Requirement already satisfied: itsdangerous<2.0,>=0.24 in /usr/local/lib/python3.7/dist-packages (from Flask>=0.8->flask-ngrok) (1.1.0)\n",
            "Requirement already satisfied: click<8.0,>=5.1 in /usr/local/lib/python3.7/dist-packages (from Flask>=0.8->flask-ngrok) (7.1.2)\n",
            "Requirement already satisfied: Werkzeug<2.0,>=0.15 in /usr/local/lib/python3.7/dist-packages (from Flask>=0.8->flask-ngrok) (1.0.1)\n",
            "Requirement already satisfied: Jinja2<3.0,>=2.10.1 in /usr/local/lib/python3.7/dist-packages (from Flask>=0.8->flask-ngrok) (2.11.3)\n",
            "Requirement already satisfied: MarkupSafe>=0.23 in /usr/local/lib/python3.7/dist-packages (from Jinja2<3.0,>=2.10.1->Flask>=0.8->flask-ngrok) (2.0.1)\n",
            "Installing collected packages: flask-ngrok\n",
            "Successfully installed flask-ngrok-0.0.25\n"
          ],
          "name": "stdout"
        }
      ]
    },
    {
      "cell_type": "code",
      "metadata": {
        "id": "X1Q_6usZhGAC",
        "colab": {
          "base_uri": "https://localhost:8080/"
        },
        "outputId": "f81d511b-4a9f-42c0-e6b4-eb268cf9f7d2"
      },
      "source": [
        "import os\n",
        "import io\n",
        "import numpy as np\n",
        "import json\n",
        "\n",
        "import keras\n",
        "from keras.preprocessing import image\n",
        "from keras.preprocessing.image import img_to_array\n",
        "from keras.applications.xception import preprocess_input\n",
        "from tensorflow import keras\n",
        "from keras import backend as K\n",
        "\n",
        "from flask_ngrok import run_with_ngrok\n",
        "from flask import Flask, request, redirect, url_for, jsonify\n",
        "\n",
        "app = Flask(__name__)\n",
        "run_with_ngrok(app)\n",
        "# folder to storage, can be changed into cloud storage?\n",
        "app.config['UPLOAD_FOLDER'] = '/content/Upload'\n",
        "\n",
        "model = None\n",
        "graph = None\n",
        "\n",
        "\n",
        "def load_model():\n",
        "    global model\n",
        "    global graph\n",
        "    model_path = \"/content/drive/Shareddrives/Capstone_Project/Room Classification/model_cloud_tflite/cloud_livingroom\"\n",
        "    model = keras.models.load_model(model_path)\n",
        "    graph = K.get_session().graph\n",
        "\n",
        "\n",
        "load_model()\n",
        "\n",
        "\n",
        "def prepare_image(img):\n",
        "    img = img_to_array(img)\n",
        "    img = np.expand_dims(img, axis=0)\n",
        "    img = preprocess_input(img)\n",
        "    # return the processed image\n",
        "    return img\n",
        "\n",
        "names = [\"poor\",\"rich\"]\n",
        "\n",
        "@app.route('/', methods=['GET', 'POST'])\n",
        "def upload_file():\n",
        "    data = {\"success\": False}\n",
        "    if request.method == 'POST':\n",
        "        if request.files.get('file'):\n",
        "            file = request.files['file']\n",
        "            filename = file.filename\n",
        "            filepath = os.path.join(app.config['UPLOAD_FOLDER'], filename)\n",
        "            file.save(filepath)\n",
        "\n",
        "            # Load the saved image using Keras.\n",
        "            # Resize it to the Xception format of 299x299 pixels.\n",
        "            image_size = (299, 299)\n",
        "            im = keras.preprocessing.image.load_img(filepath,\n",
        "                                                    target_size=image_size,\n",
        "                                                    grayscale=False)\n",
        "\n",
        "            # Preprocess the image and prepare it for classification.\n",
        "            image = prepare_image(im)\n",
        "\n",
        "            global graph\n",
        "            with graph.as_default():\n",
        "                model_path = \"/content/drive/Shareddrives/Capstone_Project/Room Classification/model_cloud_tflite/cloud_livingroom\"\n",
        "                model = keras.models.load_model(model_path)\n",
        "                graph = K.get_session().graph\n",
        "                preds = model.predict(image)\n",
        "                print(preds)\n",
        "                data[\"predictions\"] = []\n",
        "\n",
        "                # for (imagenetID, label, prob) in results[0]:\n",
        "                #    r = {\"label\": label, \"probability\": float(prob)}\n",
        "                #    data[\"predictions\"].append(r)\n",
        "\n",
        "                prob = preds\n",
        "                if prob > 0.45:\n",
        "                  labelName = names[1]\n",
        "                else : \n",
        "                  labelName = names[0]\n",
        "                  prob = 1-prob\n",
        "                r = {\"filename\": filename, \"result\": labelName, \"prob\": float(prob)}\n",
        "                data[\"predictions\"].append(r)\n",
        "\n",
        "                # indicate that the request was a success\n",
        "                data[\"success\"] = True\n",
        "\n",
        "        return jsonify(data)\n",
        "\n",
        "    return '''\n",
        "    <!doctype html>\n",
        "    <title>Upload new File</title>\n",
        "    <h1>Upload new File</h1>\n",
        "    <form method=post enctype=multipart/form-data>\n",
        "      <p><input type=file name=file>\n",
        "         <input type=submit value=Upload>\n",
        "    </form>\n",
        "    '''\n",
        "\n",
        "if __name__ == '__main__':\n",
        "    app.run()"
      ],
      "execution_count": null,
      "outputs": [
        {
          "output_type": "stream",
          "text": [
            " * Serving Flask app \"__main__\" (lazy loading)\n",
            " * Environment: production\n",
            "\u001b[31m   WARNING: This is a development server. Do not use it in a production deployment.\u001b[0m\n",
            "\u001b[2m   Use a production WSGI server instead.\u001b[0m\n",
            " * Debug mode: off\n"
          ],
          "name": "stdout"
        },
        {
          "output_type": "stream",
          "text": [
            " * Running on http://127.0.0.1:5000/ (Press CTRL+C to quit)\n"
          ],
          "name": "stderr"
        },
        {
          "output_type": "stream",
          "text": [
            " * Running on http://2f7b0b161b71.ngrok.io\n",
            " * Traffic stats available on http://127.0.0.1:4040\n"
          ],
          "name": "stdout"
        },
        {
          "output_type": "stream",
          "text": [
            "127.0.0.1 - - [09/Jun/2021 09:21:49] \"\u001b[37mGET / HTTP/1.1\u001b[0m\" 200 -\n",
            "127.0.0.1 - - [09/Jun/2021 09:21:50] \"\u001b[33mGET /favicon.ico HTTP/1.1\u001b[0m\" 404 -\n"
          ],
          "name": "stderr"
        },
        {
          "output_type": "stream",
          "text": [
            "WARNING:tensorflow:From /usr/local/lib/python3.7/dist-packages/tensorflow/python/keras/layers/normalization.py:534: _colocate_with (from tensorflow.python.framework.ops) is deprecated and will be removed in a future version.\n",
            "Instructions for updating:\n",
            "Colocations handled automatically by placer.\n"
          ],
          "name": "stdout"
        },
        {
          "output_type": "stream",
          "text": [
            "/usr/local/lib/python3.7/dist-packages/tensorflow/python/keras/engine/training.py:2426: UserWarning: `Model.state_updates` will be removed in a future version. This property should not be used in TensorFlow 2.0, as `updates` are applied automatically.\n",
            "  warnings.warn('`Model.state_updates` will be removed in a future version. '\n",
            "127.0.0.1 - - [09/Jun/2021 09:22:27] \"\u001b[37mPOST / HTTP/1.1\u001b[0m\" 200 -\n"
          ],
          "name": "stderr"
        },
        {
          "output_type": "stream",
          "text": [
            "[[0.00138953]]\n"
          ],
          "name": "stdout"
        }
      ]
    },
    {
      "cell_type": "code",
      "metadata": {
        "id": "3MvC6zhxYjsJ",
        "colab": {
          "base_uri": "https://localhost:8080/",
          "height": 129
        },
        "outputId": "85c23d87-3f7b-4d0b-cfe2-eef3bad0e428"
      },
      "source": [
        "pip3 freeze > requirements.txt"
      ],
      "execution_count": null,
      "outputs": [
        {
          "output_type": "error",
          "ename": "SyntaxError",
          "evalue": "ignored",
          "traceback": [
            "\u001b[0;36m  File \u001b[0;32m\"<ipython-input-1-55c31c867409>\"\u001b[0;36m, line \u001b[0;32m1\u001b[0m\n\u001b[0;31m    pip3 freeze > requirements.txt\u001b[0m\n\u001b[0m              ^\u001b[0m\n\u001b[0;31mSyntaxError\u001b[0m\u001b[0;31m:\u001b[0m invalid syntax\n"
          ]
        }
      ]
    }
  ]
}
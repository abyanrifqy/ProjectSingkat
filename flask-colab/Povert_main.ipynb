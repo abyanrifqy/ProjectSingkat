{
  "nbformat": 4,
  "nbformat_minor": 0,
  "metadata": {
    "colab": {
      "name": "Povert_main.ipynb",
      "provenance": [],
      "collapsed_sections": [],
      "include_colab_link": true
    },
    "kernelspec": {
      "name": "python3",
      "display_name": "Python 3"
    },
    "language_info": {
      "name": "python"
    }
  },
  "cells": [
    {
      "cell_type": "markdown",
      "metadata": {
        "id": "view-in-github",
        "colab_type": "text"
      },
      "source": [
        "<a href=\"https://colab.research.google.com/github/abyanrifqy/ProjectSingkat/blob/master/flask-colab/Povert_main.ipynb\" target=\"_parent\"><img src=\"https://colab.research.google.com/assets/colab-badge.svg\" alt=\"Open In Colab\"/></a>"
      ]
    },
    {
      "cell_type": "code",
      "metadata": {
        "id": "R-Ka1Myi27PS",
        "colab": {
          "base_uri": "https://localhost:8080/"
        },
        "outputId": "5352fc68-48b8-4286-8f8c-54bdd93d91fb"
      },
      "source": [
        "from google.colab import drive\n",
        "drive.mount('/content/drive')"
      ],
      "execution_count": null,
      "outputs": [
        {
          "output_type": "stream",
          "text": [
            "Mounted at /content/drive\n"
          ],
          "name": "stdout"
        }
      ]
    },
    {
      "cell_type": "code",
      "metadata": {
        "id": "KdwvFdbv3AY-",
        "colab": {
          "base_uri": "https://localhost:8080/"
        },
        "outputId": "2a0d7e49-908b-409a-e3e1-a8a1fb0d0ecc"
      },
      "source": [
        "!pip install flask-ngrok"
      ],
      "execution_count": null,
      "outputs": [
        {
          "output_type": "stream",
          "text": [
            "Collecting flask-ngrok\n",
            "  Downloading https://files.pythonhosted.org/packages/af/6c/f54cb686ad1129e27d125d182f90f52b32f284e6c8df58c1bae54fa1adbc/flask_ngrok-0.0.25-py3-none-any.whl\n",
            "Requirement already satisfied: Flask>=0.8 in /usr/local/lib/python3.7/dist-packages (from flask-ngrok) (1.1.4)\n",
            "Requirement already satisfied: requests in /usr/local/lib/python3.7/dist-packages (from flask-ngrok) (2.23.0)\n",
            "Requirement already satisfied: itsdangerous<2.0,>=0.24 in /usr/local/lib/python3.7/dist-packages (from Flask>=0.8->flask-ngrok) (1.1.0)\n",
            "Requirement already satisfied: click<8.0,>=5.1 in /usr/local/lib/python3.7/dist-packages (from Flask>=0.8->flask-ngrok) (7.1.2)\n",
            "Requirement already satisfied: Jinja2<3.0,>=2.10.1 in /usr/local/lib/python3.7/dist-packages (from Flask>=0.8->flask-ngrok) (2.11.3)\n",
            "Requirement already satisfied: Werkzeug<2.0,>=0.15 in /usr/local/lib/python3.7/dist-packages (from Flask>=0.8->flask-ngrok) (1.0.1)\n",
            "Requirement already satisfied: idna<3,>=2.5 in /usr/local/lib/python3.7/dist-packages (from requests->flask-ngrok) (2.10)\n",
            "Requirement already satisfied: chardet<4,>=3.0.2 in /usr/local/lib/python3.7/dist-packages (from requests->flask-ngrok) (3.0.4)\n",
            "Requirement already satisfied: certifi>=2017.4.17 in /usr/local/lib/python3.7/dist-packages (from requests->flask-ngrok) (2020.12.5)\n",
            "Requirement already satisfied: urllib3!=1.25.0,!=1.25.1,<1.26,>=1.21.1 in /usr/local/lib/python3.7/dist-packages (from requests->flask-ngrok) (1.24.3)\n",
            "Requirement already satisfied: MarkupSafe>=0.23 in /usr/local/lib/python3.7/dist-packages (from Jinja2<3.0,>=2.10.1->Flask>=0.8->flask-ngrok) (2.0.1)\n",
            "Installing collected packages: flask-ngrok\n",
            "Successfully installed flask-ngrok-0.0.25\n"
          ],
          "name": "stdout"
        }
      ]
    },
    {
      "cell_type": "code",
      "metadata": {
        "id": "yRqomajO3CKp",
        "colab": {
          "base_uri": "https://localhost:8080/"
        },
        "outputId": "a7209eb0-cda2-4fc0-c2aa-a4de3c46267a"
      },
      "source": [
        "import os\n",
        "import io\n",
        "import numpy as np\n",
        "import json\n",
        "import pandas as pd\n",
        "\n",
        "from flask_ngrok import run_with_ngrok\n",
        "from flask import Flask, request, redirect, url_for, jsonify\n",
        "\n",
        "from keras import backend as K\n",
        "import keras\n",
        "from tensorflow import keras\n",
        "import tensorflow as tf\n",
        "\n",
        "\n",
        "app = Flask(__name__)\n",
        "run_with_ngrok(app)\n",
        "\n",
        "def load_model():\n",
        "    global model\n",
        "    global backends\n",
        "    model_path = '/content/drive/Shareddrives/Capstone_Project/ML Poverty/Poverty_model_Cloud'\n",
        "    model = keras.models.load_model(model_path)\n",
        "    backends = K.get_session()\n",
        "\n",
        "load_model()\n",
        "\n",
        "names = ['extreme-poor','moderate-poor', 'non-vulnarable', 'vulnarable']\n",
        "\n",
        "\n",
        "@app.route('/', methods=['GET', 'POST'])\n",
        "def input_data():\n",
        "        if request.method == 'POST':\n",
        "\n",
        "            rooms = request.form.get('rooms') # total rooms\n",
        "            v14a = request.form.get('v14a') # have toilet or not\n",
        "            refrig = request.form.get('refrig') # have refiregerator or not\n",
        "            television = request.form.get('television') # have television or not\n",
        "            computer = request.form.get('computer') # have computer or not\n",
        "            hogar_nin = request.form.get('hogar_nin') # Number of children age 0 to 19\n",
        "            escolari = request.form.get('escolari') # Years of schooling\n",
        "            dis = request.form.get('dis') # disable person\n",
        "            estadocivil3 = request.form.get('estadocivil3') # married or not\n",
        "            estadocivil4 = request.form.get('estadocivil4') # divorce or not\n",
        "            hogar_mayor = request.form.get('hogar_mayor') # number of individuals age 65+ \n",
        "            hogar_total = request.form.get('hogar_total') # total individuals\n",
        "            tipovivi3 = request.form.get('tipovivi3') # rent house or not\n",
        "            v2a1 = request.form.get('v2a1') # monthly rent payment\n",
        "            dependency = request.form.get('dependency') # dependency rate\n",
        "            SQBdependency = float(dependency)**2 # dependency**2\n",
        "            r4t1 = request.form.get('r4t1') # persons younger than 12 years\n",
        "\n",
        "            # obtain output from room classification. Output must be converted into float64/float32\n",
        "            bedroom = request.form.get('bedroom') \n",
        "            kitchen = request.form.get('kitchen') \n",
        "            livingroom = request.form.get('livingroom') \n",
        "\n",
        "            data = {\n",
        "                  'rooms': rooms,\n",
        "                  'v14a': v14a,\n",
        "                  'refrig' : refrig,\n",
        "                  'television' : television,\n",
        "                  'computer':computer,\n",
        "                  'hogar_nin' : hogar_nin,\n",
        "                  'escolari' : escolari,\n",
        "                  'dis':dis,\n",
        "                  'estadocivil3' : estadocivil3,\n",
        "                  'estadocivil4' : estadocivil4,\n",
        "                  'hogar_mayor' : hogar_mayor,\n",
        "                  'hogar_total' : hogar_total,\n",
        "                  'tipovivi3': tipovivi3,\n",
        "                  'v2a1' :v2a1,\n",
        "                  'dependency' : dependency,\n",
        "                  'SQBdependency': SQBdependency,\n",
        "                  'r4t1' : r4t1,\n",
        "                  'bedroom':bedroom,\n",
        "                  'kitchen':kitchen,\n",
        "                  'livingroom':livingroom\n",
        "            }\n",
        "\n",
        "            df = pd.DataFrame([data], columns=data.keys())\n",
        "\n",
        "            global backends\n",
        "            with backends.as_default():\n",
        "              model_path = '/content/drive/Shareddrives/Capstone_Project/ML Poverty/Poverty_model_Cloud'\n",
        "              model = keras.models.load_model(model_path)\n",
        "              backends = K.get_session()\n",
        "              # Data\n",
        "              df = np.array(df)\n",
        "              df = K.constant(df)\n",
        "              print(df)\n",
        "              prediction = model.predict(df)\n",
        "              print(prediction)\n",
        "              prediction_prob = prediction.max()\n",
        "              print(prediction_prob)\n",
        "              place = np.argmax(prediction)\n",
        "              print(place)\n",
        "              result = names[place]\n",
        "            \n",
        "              response_json = {\n",
        "                # \"data\" : data, \n",
        "                \"prediction\": str(result),\n",
        "                \"probabilty\": str(prediction_prob)\n",
        "                }\n",
        "\n",
        "            return jsonify(response_json)\n",
        "      \n",
        "        return '''\n",
        "        <!doctype html>\n",
        "        <title>Upload new form</title>\n",
        "        <h1>Fill form </h1>\n",
        "        <form method=post enctype=multipart/form-data>\n",
        "          <p> Rooms <input type=number name= \"rooms\">\n",
        "          <p> Toilet <input type=number name= \"v14a\">\n",
        "          <p> Refrigerator <input type=number name= \"refrig\">\n",
        "          <p> TV <input type=number name= \"television\">\n",
        "          <p> Computer <input type=number name= \"computer\">\n",
        "          <p> Number of children age 0 to 19 <input type=number name= 'hogar_nin'>\n",
        "          <p> Years of schooling <input type=number name= \"escolari\">\n",
        "          <p> Disable person <input type=number name= \"dis\">\n",
        "          <p> Married <input type=number name= 'estadocivil3'>\n",
        "          <p> Divorce <input type=number name= 'estadocivil4'>\n",
        "          <p> Number of individuals age 65+ <input type=number name= 'hogar_mayor'>\n",
        "          <p> Number of total individuals <input type=number name= 'hogar_total'>\n",
        "          <p> Rent House/Not <input type=number name= 'tipovivi3'>\n",
        "          <p> Monthly rent payment <input type=number name= 'v2a1'>\n",
        "          <p> Dependency <input type=number name= 'dependency'>\n",
        "          <p> Persons younger than 12 years <input type=number name= 'r4t1'>\n",
        "          <p> bedroom <input type=number name= 'bedroom'>\n",
        "          <p> kitchen <input type=number name= 'kitchen'>\n",
        "          <p> livingroom <input type=number name= 'livingroom'>\n",
        "          <p> <input type=submit value=input_data>\n",
        "        </form>\n",
        "          '''\n",
        "\n",
        "if __name__ == '__main__':\n",
        "    app.run()"
      ],
      "execution_count": null,
      "outputs": [
        {
          "output_type": "stream",
          "text": [
            " * Serving Flask app \"__main__\" (lazy loading)\n",
            " * Environment: production\n",
            "\u001b[31m   WARNING: This is a development server. Do not use it in a production deployment.\u001b[0m\n",
            "\u001b[2m   Use a production WSGI server instead.\u001b[0m\n",
            " * Debug mode: off\n"
          ],
          "name": "stdout"
        },
        {
          "output_type": "stream",
          "text": [
            " * Running on http://127.0.0.1:5000/ (Press CTRL+C to quit)\n"
          ],
          "name": "stderr"
        },
        {
          "output_type": "stream",
          "text": [
            " * Running on http://231f2453be3d.ngrok.io\n",
            " * Traffic stats available on http://127.0.0.1:4040\n"
          ],
          "name": "stdout"
        },
        {
          "output_type": "stream",
          "text": [
            "127.0.0.1 - - [09/Jun/2021 08:58:07] \"\u001b[37mGET / HTTP/1.1\u001b[0m\" 200 -\n",
            "127.0.0.1 - - [09/Jun/2021 08:58:08] \"\u001b[33mGET /favicon.ico HTTP/1.1\u001b[0m\" 404 -\n",
            "[2021-06-09 08:58:44,169] ERROR in app: Exception on / [POST]\n",
            "Traceback (most recent call last):\n",
            "  File \"/usr/local/lib/python3.7/dist-packages/flask/app.py\", line 2447, in wsgi_app\n",
            "    response = self.full_dispatch_request()\n",
            "  File \"/usr/local/lib/python3.7/dist-packages/flask/app.py\", line 1952, in full_dispatch_request\n",
            "    rv = self.handle_user_exception(e)\n",
            "  File \"/usr/local/lib/python3.7/dist-packages/flask/app.py\", line 1821, in handle_user_exception\n",
            "    reraise(exc_type, exc_value, tb)\n",
            "  File \"/usr/local/lib/python3.7/dist-packages/flask/_compat.py\", line 39, in reraise\n",
            "    raise value\n",
            "  File \"/usr/local/lib/python3.7/dist-packages/flask/app.py\", line 1950, in full_dispatch_request\n",
            "    rv = self.dispatch_request()\n",
            "  File \"/usr/local/lib/python3.7/dist-packages/flask/app.py\", line 1936, in dispatch_request\n",
            "    return self.view_functions[rule.endpoint](**req.view_args)\n",
            "  File \"<ipython-input-7-3d6b4c12d6fe>\", line 99, in input_data\n",
            "    print(results)\n",
            "NameError: name 'results' is not defined\n",
            "127.0.0.1 - - [09/Jun/2021 08:58:44] \"\u001b[35m\u001b[1mPOST / HTTP/1.1\u001b[0m\" 500 -\n"
          ],
          "name": "stderr"
        },
        {
          "output_type": "stream",
          "text": [
            "tf.Tensor(\n",
            "[[ 3.  2.  1.  2.  2.  1. 12.  0.  1.  0.  0.  4.  0.  0.  2.  4.  0.  1.\n",
            "   0.  0.]], shape=(1, 20), dtype=float32)\n",
            "[[0.11943253 0.02503859 0.84816027 0.00736861]]\n",
            "0.84816027\n",
            "2\n"
          ],
          "name": "stdout"
        },
        {
          "output_type": "stream",
          "text": [
            "[2021-06-09 08:59:06,475] ERROR in app: Exception on / [POST]\n",
            "Traceback (most recent call last):\n",
            "  File \"/usr/local/lib/python3.7/dist-packages/flask/app.py\", line 2447, in wsgi_app\n",
            "    response = self.full_dispatch_request()\n",
            "  File \"/usr/local/lib/python3.7/dist-packages/flask/app.py\", line 1952, in full_dispatch_request\n",
            "    rv = self.handle_user_exception(e)\n",
            "  File \"/usr/local/lib/python3.7/dist-packages/flask/app.py\", line 1821, in handle_user_exception\n",
            "    reraise(exc_type, exc_value, tb)\n",
            "  File \"/usr/local/lib/python3.7/dist-packages/flask/_compat.py\", line 39, in reraise\n",
            "    raise value\n",
            "  File \"/usr/local/lib/python3.7/dist-packages/flask/app.py\", line 1950, in full_dispatch_request\n",
            "    rv = self.dispatch_request()\n",
            "  File \"/usr/local/lib/python3.7/dist-packages/flask/app.py\", line 1936, in dispatch_request\n",
            "    return self.view_functions[rule.endpoint](**req.view_args)\n",
            "  File \"<ipython-input-7-3d6b4c12d6fe>\", line 99, in input_data\n",
            "    print(results)\n",
            "NameError: name 'results' is not defined\n",
            "127.0.0.1 - - [09/Jun/2021 08:59:06] \"\u001b[35m\u001b[1mPOST / HTTP/1.1\u001b[0m\" 500 -\n"
          ],
          "name": "stderr"
        },
        {
          "output_type": "stream",
          "text": [
            "tf.Tensor(\n",
            "[[ 3.  2.  1.  2.  2.  1. 12.  0.  1.  0.  0.  4.  0.  0.  2.  4.  0.  1.\n",
            "   0.  0.]], shape=(1, 20), dtype=float32)\n",
            "[[0.11943253 0.02503859 0.84816027 0.00736861]]\n",
            "0.84816027\n",
            "2\n"
          ],
          "name": "stdout"
        }
      ]
    },
    {
      "cell_type": "markdown",
      "metadata": {
        "id": "EOX7XYAT_TGE"
      },
      "source": [
        "0 : extreme-poor\n",
        "\n",
        "1 : moderate-poor\n",
        "\n",
        "2 : non-vulnarable\n",
        "\n",
        "3 : vulnarable"
      ]
    },
    {
      "cell_type": "markdown",
      "metadata": {
        "id": "k818kiC5WdTF"
      },
      "source": [
        "Still lacking of object detection model (changed to fill it in the form). Not yet do filtering based on categories because doesn't have enough time. "
      ]
    }
  ]
}